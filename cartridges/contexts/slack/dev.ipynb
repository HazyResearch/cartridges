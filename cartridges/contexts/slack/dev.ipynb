{
 "cells": [
  {
   "cell_type": "code",
   "execution_count": 7,
   "metadata": {},
   "outputs": [
    {
     "ename": "TypeError",
     "evalue": "cannot unpack non-iterable _AsyncGeneratorContextManager object",
     "output_type": "error",
     "traceback": [
      "\u001b[31m---------------------------------------------------------------------------\u001b[39m",
      "\u001b[31mTypeError\u001b[39m                                 Traceback (most recent call last)",
      "\u001b[36mCell\u001b[39m\u001b[36m \u001b[39m\u001b[32mIn[7]\u001b[39m\u001b[32m, line 24\u001b[39m\n\u001b[32m      9\u001b[39m \u001b[38;5;28;01mfrom\u001b[39;00m\u001b[38;5;250m \u001b[39m\u001b[34;01mdotenv\u001b[39;00m\u001b[38;5;250m \u001b[39m\u001b[38;5;28;01mimport\u001b[39;00m load_dotenv\n\u001b[32m     11\u001b[39m server_params = StdioServerParameters(\n\u001b[32m     12\u001b[39m     **{\n\u001b[32m     13\u001b[39m         \u001b[33m\"\u001b[39m\u001b[33mcommand\u001b[39m\u001b[33m\"\u001b[39m: \u001b[33m\"\u001b[39m\u001b[33mdocker\u001b[39m\u001b[33m\"\u001b[39m,\n\u001b[32m   (...)\u001b[39m\u001b[32m     21\u001b[39m     }\n\u001b[32m     22\u001b[39m )\n\u001b[32m---> \u001b[39m\u001b[32m24\u001b[39m stdio, write = stdio_client(server_params)\n\u001b[32m     25\u001b[39m session = ClientSession(stdio, write)\n",
      "\u001b[31mTypeError\u001b[39m: cannot unpack non-iterable _AsyncGeneratorContextManager object"
     ]
    }
   ],
   "source": [
    "import asyncio\n",
    "from typing import Optional\n",
    "from contextlib import AsyncExitStack, ExitStack\n",
    "\n",
    "from mcp import ClientSession, StdioServerParameters\n",
    "from mcp.client.stdio import stdio_client\n",
    "\n",
    "from anthropic import Anthropic\n",
    "from dotenv import load_dotenv\n",
    "        \n",
    "server_params = StdioServerParameters(\n",
    "    **{\n",
    "        \"command\": \"docker\",\n",
    "        \"args\": [\n",
    "        \"run\",\n",
    "        \"--rm\",\n",
    "        \"-i\",\n",
    "        \"--mount\", \"type=bind,src=/Users/sabrieyuboglu/code/cartridges,dst=/workspace\",\n",
    "        \"mcp/git\"\n",
    "        ]\n",
    "    }\n",
    ")\n",
    "\n",
    "stdio, write = stdio_client(server_params)\n",
    "session = ClientSession(stdio, write)\n",
    "    "
   ]
  },
  {
   "cell_type": "code",
   "execution_count": 6,
   "metadata": {},
   "outputs": [
    {
     "ename": "RuntimeError",
     "evalue": "asyncio.run() cannot be called from a running event loop",
     "output_type": "error",
     "traceback": [
      "\u001b[31m---------------------------------------------------------------------------\u001b[39m",
      "\u001b[31mRuntimeError\u001b[39m                              Traceback (most recent call last)",
      "\u001b[36mCell\u001b[39m\u001b[36m \u001b[39m\u001b[32mIn[6]\u001b[39m\u001b[32m, line 3\u001b[39m\n\u001b[32m      1\u001b[39m client = MCPClient()\n\u001b[32m----> \u001b[39m\u001b[32m3\u001b[39m \u001b[43masyncio\u001b[49m\u001b[43m.\u001b[49m\u001b[43mrun\u001b[49m\u001b[43m(\u001b[49m\u001b[43mclient\u001b[49m\u001b[43m.\u001b[49m\u001b[43mconnect_to_server\u001b[49m\u001b[43m(\u001b[49m\u001b[33;43m\"\u001b[39;49m\u001b[33;43mmcp_server_git\u001b[39;49m\u001b[33;43m\"\u001b[39;49m\u001b[43m)\u001b[49m\u001b[43m)\u001b[49m\n",
      "\u001b[36mFile \u001b[39m\u001b[32m~/opt/miniconda3/envs/cartridges12/lib/python3.12/asyncio/runners.py:191\u001b[39m, in \u001b[36mrun\u001b[39m\u001b[34m(main, debug, loop_factory)\u001b[39m\n\u001b[32m    161\u001b[39m \u001b[38;5;250m\u001b[39m\u001b[33;03m\"\"\"Execute the coroutine and return the result.\u001b[39;00m\n\u001b[32m    162\u001b[39m \n\u001b[32m    163\u001b[39m \u001b[33;03mThis function runs the passed coroutine, taking care of\u001b[39;00m\n\u001b[32m   (...)\u001b[39m\u001b[32m    187\u001b[39m \u001b[33;03m    asyncio.run(main())\u001b[39;00m\n\u001b[32m    188\u001b[39m \u001b[33;03m\"\"\"\u001b[39;00m\n\u001b[32m    189\u001b[39m \u001b[38;5;28;01mif\u001b[39;00m events._get_running_loop() \u001b[38;5;129;01mis\u001b[39;00m \u001b[38;5;129;01mnot\u001b[39;00m \u001b[38;5;28;01mNone\u001b[39;00m:\n\u001b[32m    190\u001b[39m     \u001b[38;5;66;03m# fail fast with short traceback\u001b[39;00m\n\u001b[32m--> \u001b[39m\u001b[32m191\u001b[39m     \u001b[38;5;28;01mraise\u001b[39;00m \u001b[38;5;167;01mRuntimeError\u001b[39;00m(\n\u001b[32m    192\u001b[39m         \u001b[33m\"\u001b[39m\u001b[33masyncio.run() cannot be called from a running event loop\u001b[39m\u001b[33m\"\u001b[39m)\n\u001b[32m    194\u001b[39m \u001b[38;5;28;01mwith\u001b[39;00m Runner(debug=debug, loop_factory=loop_factory) \u001b[38;5;28;01mas\u001b[39;00m runner:\n\u001b[32m    195\u001b[39m     \u001b[38;5;28;01mreturn\u001b[39;00m runner.run(main)\n",
      "\u001b[31mRuntimeError\u001b[39m: asyncio.run() cannot be called from a running event loop"
     ]
    }
   ],
   "source": [
    "client = MCPClient()\n",
    "\n",
    "asyncio.run(client.connect_to_server(\"mcp_server_git\"))"
   ]
  },
  {
   "cell_type": "code",
   "execution_count": null,
   "metadata": {},
   "outputs": [
    {
     "name": "stdout",
     "output_type": "stream",
     "text": [
      "Fetched 67 messages from channel C165G5W4D\n",
      "\n",
      "[1742314253.754089] U1EECV1QR: Who is handling the upgraded bathroom art? :pray:\n",
      "[1742230869.057299] USLACKBOT: This message was deleted.\n"
     ]
    }
   ],
   "source": [
    "\"\"\"\n",
    "Script to fetch every message from the Slack channel defined by the\n",
    "`SLACK_CHANNEL_ID` environment variable.\n",
    "\n",
    "Requirements:\n",
    "    pip install slack_sdk python-dotenv\n",
    "    # and create a .env file containing at least\n",
    "    # SLACK_BOT_TOKEN=xoxb-***\n",
    "    # SLACK_CHANNEL_ID=C********\n",
    "\"\"\"\n",
    "\n",
    "from __future__ import annotations\n",
    "\n",
    "import os\n",
    "from typing import Any, Dict, List\n",
    "\n",
    "from dotenv import load_dotenv\n",
    "from slack_sdk import WebClient\n",
    "from slack_sdk.errors import SlackApiError\n",
    "\n",
    "\n",
    "SLACK_BOT_TOKEN = os.environ[\"SLACK_BOT_TOKEN\"]\n",
    "SLACK_TEAM_ID = os.environ[\"SLACK_TEAM_ID\"]\n",
    "\n",
    "if not SLACK_BOT_TOKEN or not SLACK_CHANNEL_ID:\n",
    "    raise EnvironmentError(\n",
    "        \"Both SLACK_BOT_TOKEN and SLACK_CHANNEL_ID must be set \"\n",
    "        \"as environment variables (or in a .env file).\"\n",
    "    )\n",
    "\n",
    "client = WebClient(token=SLACK_BOT_TOKEN)\n",
    "\n",
    "\n",
    "def fetch_all_messages(channel_id: str) -> List[Dict[str, Any]]:\n",
    "    \"\"\"\n",
    "    Retrieve every message in the specified Slack channel.\n",
    "\n",
    "    Slack paginates results, returning up to 200 messages per call.\n",
    "    This function continues requesting pages until no more messages remain.\n",
    "\n",
    "    Returns\n",
    "    -------\n",
    "    List[Dict[str, Any]]\n",
    "        A list of raw Slack message objects.\n",
    "    \"\"\"\n",
    "    messages: List[Dict[str, Any]] = []\n",
    "    cursor: str | None = None\n",
    "\n",
    "    while True:\n",
    "        try:\n",
    "            resp = client.conversations_history(\n",
    "                channel=channel_id,\n",
    "                limit=200,\n",
    "                cursor=cursor,\n",
    "            )\n",
    "        except SlackApiError as exc:\n",
    "            # Abort on any Slack API error and surface the message\n",
    "            raise RuntimeError(\n",
    "                f\"Failed to fetch messages: {exc.response['error']}\"\n",
    "            ) from exc\n",
    "\n",
    "        messages.extend(resp.get(\"messages\", []))\n",
    "\n",
    "        cursor = resp.get(\"response_metadata\", {}).get(\"next_cursor\")\n",
    "        if not cursor:\n",
    "            break  # No further pages\n",
    "\n",
    "    return messages\n",
    "\n",
    "\n",
    "all_msgs = fetch_all_messages(SLACK_CHANNEL_ID)\n",
    "print(f\"Fetched {len(all_msgs)} messages from channel {SLACK_CHANNEL_ID}\\n\")\n",
    "\n",
    "# Print the text of the last 5 messages for quick inspection\n",
    "for msg in all_msgs[-2:]:\n",
    "    ts = msg.get(\"ts\")\n",
    "    user = msg.get(\"user\")\n",
    "    text = msg.get(\"text\")\n",
    "    print(f\"[{ts}] {user}: {text}\")\n"
   ]
  }
 ],
 "metadata": {
  "kernelspec": {
   "display_name": "cartridges12",
   "language": "python",
   "name": "python3"
  },
  "language_info": {
   "codemirror_mode": {
    "name": "ipython",
    "version": 3
   },
   "file_extension": ".py",
   "mimetype": "text/x-python",
   "name": "python",
   "nbconvert_exporter": "python",
   "pygments_lexer": "ipython3",
   "version": "3.12.11"
  }
 },
 "nbformat": 4,
 "nbformat_minor": 2
}
